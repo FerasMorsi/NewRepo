{
 "cells": [
  {
   "cell_type": "code",
   "execution_count": 1,
   "id": "31edac6f-4c0f-464b-a08e-bbcec83536dc",
   "metadata": {},
   "outputs": [
    {
     "name": "stderr",
     "output_type": "stream",
     "text": [
      "25/10/03 17:49:59 WARN SparkSession: Using an existing Spark session; only runtime SQL configurations will take effect.\n"
     ]
    }
   ],
   "source": [
    "# Import SparkSession to create a Spark app \n",
    "from pyspark.sql import SparkSession\n",
    "\n",
    "spark = SparkSession.builder.appName(\"Read inside Airbnb data\").getOrCreate()"
   ]
  },
  {
   "cell_type": "code",
   "execution_count": 2,
   "id": "21be03af-84be-4f5e-8e5c-e91ce9103ade",
   "metadata": {},
   "outputs": [
    {
     "name": "stderr",
     "output_type": "stream",
     "text": [
      "                                                                                "
     ]
    }
   ],
   "source": [
    "listing = spark.read.csv(\"Data/listings.csv.gz\", header=True,\n",
    "                        inferSchema=True, sep=\",\",\n",
    "                        quote='\"', escape='\"',\n",
    "                        multiLine=True, mode=\"PERMISSIVE\")"
   ]
  },
  {
   "cell_type": "code",
   "execution_count": 3,
   "id": "23dddb86-3693-4810-bca6-7c619263a35a",
   "metadata": {},
   "outputs": [
    {
     "name": "stdout",
     "output_type": "stream",
     "text": [
      "StructField('id', LongType(), True)\n",
      "StructField('listing_url', StringType(), True)\n",
      "StructField('scrape_id', LongType(), True)\n",
      "StructField('last_scraped', DateType(), True)\n",
      "StructField('source', StringType(), True)\n",
      "StructField('name', StringType(), True)\n",
      "StructField('description', StringType(), True)\n",
      "StructField('neighborhood_overview', StringType(), True)\n",
      "StructField('picture_url', StringType(), True)\n",
      "StructField('host_id', IntegerType(), True)\n",
      "StructField('host_url', StringType(), True)\n",
      "StructField('host_name', StringType(), True)\n",
      "StructField('host_since', DateType(), True)\n",
      "StructField('host_location', StringType(), True)\n",
      "StructField('host_about', StringType(), True)\n",
      "StructField('host_response_time', StringType(), True)\n",
      "StructField('host_response_rate', StringType(), True)\n",
      "StructField('host_acceptance_rate', StringType(), True)\n",
      "StructField('host_is_superhost', StringType(), True)\n",
      "StructField('host_thumbnail_url', StringType(), True)\n",
      "StructField('host_picture_url', StringType(), True)\n",
      "StructField('host_neighbourhood', StringType(), True)\n",
      "StructField('host_listings_count', IntegerType(), True)\n",
      "StructField('host_total_listings_count', IntegerType(), True)\n",
      "StructField('host_verifications', StringType(), True)\n",
      "StructField('host_has_profile_pic', StringType(), True)\n",
      "StructField('host_identity_verified', StringType(), True)\n",
      "StructField('neighbourhood', StringType(), True)\n",
      "StructField('neighbourhood_cleansed', StringType(), True)\n",
      "StructField('neighbourhood_group_cleansed', StringType(), True)\n",
      "StructField('latitude', DoubleType(), True)\n",
      "StructField('longitude', DoubleType(), True)\n",
      "StructField('property_type', StringType(), True)\n",
      "StructField('room_type', StringType(), True)\n",
      "StructField('accommodates', IntegerType(), True)\n",
      "StructField('bathrooms', DoubleType(), True)\n",
      "StructField('bathrooms_text', StringType(), True)\n",
      "StructField('bedrooms', IntegerType(), True)\n",
      "StructField('beds', IntegerType(), True)\n",
      "StructField('amenities', StringType(), True)\n",
      "StructField('price', StringType(), True)\n",
      "StructField('minimum_nights', IntegerType(), True)\n",
      "StructField('maximum_nights', IntegerType(), True)\n",
      "StructField('minimum_minimum_nights', IntegerType(), True)\n",
      "StructField('maximum_minimum_nights', IntegerType(), True)\n",
      "StructField('minimum_maximum_nights', IntegerType(), True)\n",
      "StructField('maximum_maximum_nights', IntegerType(), True)\n",
      "StructField('minimum_nights_avg_ntm', DoubleType(), True)\n",
      "StructField('maximum_nights_avg_ntm', DoubleType(), True)\n",
      "StructField('calendar_updated', StringType(), True)\n",
      "StructField('has_availability', StringType(), True)\n",
      "StructField('availability_30', IntegerType(), True)\n",
      "StructField('availability_60', IntegerType(), True)\n",
      "StructField('availability_90', IntegerType(), True)\n",
      "StructField('availability_365', IntegerType(), True)\n",
      "StructField('calendar_last_scraped', DateType(), True)\n",
      "StructField('number_of_reviews', IntegerType(), True)\n",
      "StructField('number_of_reviews_ltm', IntegerType(), True)\n",
      "StructField('number_of_reviews_l30d', IntegerType(), True)\n",
      "StructField('availability_eoy', IntegerType(), True)\n",
      "StructField('number_of_reviews_ly', IntegerType(), True)\n",
      "StructField('estimated_occupancy_l365d', IntegerType(), True)\n",
      "StructField('estimated_revenue_l365d', IntegerType(), True)\n",
      "StructField('first_review', DateType(), True)\n",
      "StructField('last_review', DateType(), True)\n",
      "StructField('review_scores_rating', DoubleType(), True)\n",
      "StructField('review_scores_accuracy', DoubleType(), True)\n",
      "StructField('review_scores_cleanliness', DoubleType(), True)\n",
      "StructField('review_scores_checkin', DoubleType(), True)\n",
      "StructField('review_scores_communication', DoubleType(), True)\n",
      "StructField('review_scores_location', DoubleType(), True)\n",
      "StructField('review_scores_value', DoubleType(), True)\n",
      "StructField('license', StringType(), True)\n",
      "StructField('instant_bookable', StringType(), True)\n",
      "StructField('calculated_host_listings_count', IntegerType(), True)\n",
      "StructField('calculated_host_listings_count_entire_homes', IntegerType(), True)\n",
      "StructField('calculated_host_listings_count_private_rooms', IntegerType(), True)\n",
      "StructField('calculated_host_listings_count_shared_rooms', IntegerType(), True)\n",
      "StructField('reviews_per_month', DoubleType(), True)\n"
     ]
    }
   ],
   "source": [
    "for filed in listing.schema:\n",
    "    print(filed)"
   ]
  },
  {
   "cell_type": "code",
   "execution_count": 4,
   "id": "d861f8cf-06fb-4a29-a88a-19ba366ed42d",
   "metadata": {},
   "outputs": [
    {
     "name": "stdout",
     "output_type": "stream",
     "text": [
      "+----------------------+\n",
      "|neighbourhood_cleansed|\n",
      "+----------------------+\n",
      "|Lewisham              |\n",
      "|Lewisham              |\n",
      "|Lewisham              |\n",
      "|Lewisham              |\n",
      "|Lewisham              |\n",
      "|Lewisham              |\n",
      "|Lewisham              |\n",
      "|Lewisham              |\n",
      "|Lewisham              |\n",
      "|Camden                |\n",
      "|Lambeth               |\n",
      "|Richmond upon Thames  |\n",
      "|Hillingdon            |\n",
      "|Wandsworth            |\n",
      "|Brent                 |\n",
      "|Kensington and Chelsea|\n",
      "|Greenwich             |\n",
      "|Hackney               |\n",
      "|Lambeth               |\n",
      "|Hackney               |\n",
      "+----------------------+\n",
      "only showing top 20 rows\n"
     ]
    }
   ],
   "source": [
    "neighbourhoods = listing.select(listing.neighbourhood_cleansed)\n",
    "neighbourhoods.show(20, truncate=False)"
   ]
  },
  {
   "cell_type": "code",
   "execution_count": 6,
   "id": "37107c75-dc07-4709-aa3b-782f5c851fac",
   "metadata": {},
   "outputs": [
    {
     "name": "stdout",
     "output_type": "stream",
     "text": [
      "+----------------------+\n",
      "|review_scores_location|\n",
      "+----------------------+\n",
      "|                  4.62|\n",
      "|                  4.54|\n",
      "|                  4.36|\n",
      "|                   4.5|\n",
      "|                  4.37|\n",
      "|                   4.5|\n",
      "|                  4.53|\n",
      "|                  4.52|\n",
      "|                  4.49|\n",
      "|                  4.94|\n",
      "|                  4.82|\n",
      "|                  4.92|\n",
      "|                  4.14|\n",
      "|                  4.78|\n",
      "|                  4.43|\n",
      "|                  4.73|\n",
      "|                  NULL|\n",
      "|                  NULL|\n",
      "|                  4.48|\n",
      "|                  4.75|\n",
      "+----------------------+\n",
      "only showing top 20 rows\n"
     ]
    }
   ],
   "source": [
    "review_locations = listing.select(listing.review_scores_location)\n",
    "review_locations.show()"
   ]
  },
  {
   "cell_type": "code",
   "execution_count": 7,
   "id": "66277348-1f83-4b17-ab8d-526694dd767c",
   "metadata": {},
   "outputs": [
    {
     "name": "stdout",
     "output_type": "stream",
     "text": [
      "+----------------------+\n",
      "|review_scores_location|\n",
      "+----------------------+\n",
      "|                  4.62|\n",
      "|                  4.54|\n",
      "|                  4.36|\n",
      "|                   4.5|\n",
      "|                  4.37|\n",
      "|                   4.5|\n",
      "|                  4.53|\n",
      "|                  4.52|\n",
      "|                  4.49|\n",
      "|                  4.94|\n",
      "|                  4.82|\n",
      "|                  4.92|\n",
      "|                  4.14|\n",
      "|                  4.78|\n",
      "|                  4.43|\n",
      "|                  4.73|\n",
      "|                  NULL|\n",
      "|                  NULL|\n",
      "|                  4.48|\n",
      "|                  4.75|\n",
      "+----------------------+\n",
      "only showing top 20 rows\n"
     ]
    }
   ],
   "source": [
    "listing.select(listing.review_scores_location).show()"
   ]
  },
  {
   "cell_type": "code",
   "execution_count": 43,
   "id": "8443243a-6ffb-4690-8112-a50d9250085b",
   "metadata": {},
   "outputs": [
    {
     "name": "stdout",
     "output_type": "stream",
     "text": [
      "+----------------------+\n",
      "|review_scores_location|\n",
      "+----------------------+\n",
      "|                  4.62|\n",
      "|                  4.54|\n",
      "|                  4.36|\n",
      "|                   4.5|\n",
      "|                  4.37|\n",
      "|                   4.5|\n",
      "|                  4.53|\n",
      "|                  4.52|\n",
      "|                  4.49|\n",
      "|                  4.94|\n",
      "|                  4.82|\n",
      "|                  4.92|\n",
      "|                  4.14|\n",
      "|                  4.78|\n",
      "|                  4.43|\n",
      "|                  4.73|\n",
      "|                  NULL|\n",
      "|                  NULL|\n",
      "|                  4.48|\n",
      "|                  4.75|\n",
      "+----------------------+\n",
      "only showing top 20 rows\n"
     ]
    }
   ],
   "source": [
    "listing     \\\n",
    "    .select(listing.review_scores_location)     \\\n",
    "    .show()"
   ]
  },
  {
   "cell_type": "code",
   "execution_count": 59,
   "id": "f4e09556-e16e-4d8f-9762-932430cda43c",
   "metadata": {},
   "outputs": [
    {
     "name": "stdout",
     "output_type": "stream",
     "text": [
      "+------+-------+------------------------------------------------+----------------------+\n",
      "|id    |price  |name                                            |review_scores_location|\n",
      "+------+-------+------------------------------------------------+----------------------+\n",
      "|264776|$297.00|Huge Four Bedroom Apartment                     |4.62                  |\n",
      "|264777|$98.00 |One Bedroom Apartment                           |4.54                  |\n",
      "|264782|$120.00|One Bedroom Garden Apartment                    |4.53                  |\n",
      "|264783|$216.00|Four Bedroom Garden Apartment                   |4.52                  |\n",
      "|266037|$62.00 |Central London with Stunning Views!             |4.94                  |\n",
      "|268398|$66.00 |Also five minutes to South Bank                 |4.82                  |\n",
      "|270600|$73.00 |Patio Apartment in London (Twickenham)          |4.92                  |\n",
      "|425143|NULL   |luxury 1bed in Chelsea Bridge Wharf             |4.78                  |\n",
      "|426354|$200.00|1 bedroom flat with big balcony!                |4.73                  |\n",
      "|427584|$129.00|Hackney Stylish & light 1 bedroom Victorian flat|4.75                  |\n",
      "|427936|$70.00 |Boutique Room w/ Private Bath, Balcony          |4.88                  |\n",
      "|274740|$248.00|Top Floor Sunset View   Chelsea apartment       |4.58                  |\n",
      "|13913 |$72.00 |Holiday London DB Room Let-on going             |4.77                  |\n",
      "|15400 |$120.00|Bright Chelsea  Apartment. Chelsea!             |4.93                  |\n",
      "|17402 |$510.00|Very Central Modern 3-Bed/2 Bath By Oxford St W1|4.89                  |\n",
      "|24328 |$213.00|Battersea live/work artist house                |4.59                  |\n",
      "|34935 |$153.00|Bright 1 Bedroom Apartment w 2 beds Brick Lane  |4.59                  |\n",
      "|36299 |$245.00|Kew Gardens 3BR house in cul-de-sac             |4.9                   |\n",
      "|36660 |$74.00 |You are GUARANTEED to love this                 |4.77                  |\n",
      "|38610 |NULL   |CHARMING FAMILY HOME                            |4.79                  |\n",
      "+------+-------+------------------------------------------------+----------------------+\n",
      "only showing top 20 rows\n"
     ]
    }
   ],
   "source": [
    "high_score_listing = listing.filter(listing.review_scores_location>4.5).select('id','price','name','review_scores_location')\n",
    "high_score_listing.show(20,truncate=False)\n"
   ]
  },
  {
   "cell_type": "code",
   "execution_count": 82,
   "id": "a1920b68-07f6-4779-8082-db6feb3f12b8",
   "metadata": {},
   "outputs": [
    {
     "name": "stdout",
     "output_type": "stream",
     "text": [
      "+------+-------+------------------------------------------------+----------------------+\n",
      "|id    |price  |name                                            |review_scores_location|\n",
      "+------+-------+------------------------------------------------+----------------------+\n",
      "|264776|$297.00|Huge Four Bedroom Apartment                     |4.62                  |\n",
      "|264777|$98.00 |One Bedroom Apartment                           |4.54                  |\n",
      "|264782|$120.00|One Bedroom Garden Apartment                    |4.53                  |\n",
      "|264783|$216.00|Four Bedroom Garden Apartment                   |4.52                  |\n",
      "|266037|$62.00 |Central London with Stunning Views!             |4.94                  |\n",
      "|268398|$66.00 |Also five minutes to South Bank                 |4.82                  |\n",
      "|270600|$73.00 |Patio Apartment in London (Twickenham)          |4.92                  |\n",
      "|426354|$200.00|1 bedroom flat with big balcony!                |4.73                  |\n",
      "|427584|$129.00|Hackney Stylish & light 1 bedroom Victorian flat|4.75                  |\n",
      "|427936|$70.00 |Boutique Room w/ Private Bath, Balcony          |4.88                  |\n",
      "|274740|$248.00|Top Floor Sunset View   Chelsea apartment       |4.58                  |\n",
      "|13913 |$72.00 |Holiday London DB Room Let-on going             |4.77                  |\n",
      "|15400 |$120.00|Bright Chelsea  Apartment. Chelsea!             |4.93                  |\n",
      "|17402 |$510.00|Very Central Modern 3-Bed/2 Bath By Oxford St W1|4.89                  |\n",
      "|24328 |$213.00|Battersea live/work artist house                |4.59                  |\n",
      "|34935 |$153.00|Bright 1 Bedroom Apartment w 2 beds Brick Lane  |4.59                  |\n",
      "|36299 |$245.00|Kew Gardens 3BR house in cul-de-sac             |4.9                   |\n",
      "|36660 |$74.00 |You are GUARANTEED to love this                 |4.77                  |\n",
      "|275140|$111.00|Great location, direct links to London Bridge!  |4.54                  |\n",
      "|432841|$104.00|Large double bedroom in Shoreditch w/garden     |4.79                  |\n",
      "+------+-------+------------------------------------------------+----------------------+\n",
      "only showing top 20 rows\n"
     ]
    }
   ],
   "source": [
    "high_score_listing = listing \\\n",
    "    .filter(listing.review_scores_location>4.5) \\\n",
    "        .select('id','price','name','review_scores_location')\n",
    "\n",
    "high_score_listing.dropna().show(20,truncate=False)"
   ]
  },
  {
   "cell_type": "code",
   "execution_count": 126,
   "id": "7aad7190-a423-4534-831d-a789d7e33eb9",
   "metadata": {},
   "outputs": [
    {
     "name": "stdout",
     "output_type": "stream",
     "text": [
      "+-----+--------------------------------------------------+\n",
      "|price|name                                              |\n",
      "+-----+--------------------------------------------------+\n",
      "|297.0|Huge Four Bedroom Apartment                       |\n",
      "|98.0 |One Bedroom Apartment                             |\n",
      "|148.0|Two Bedroom Newly Refurbished Apartment           |\n",
      "|144.0|Refurbished Two Bedroom Apartment                 |\n",
      "|157.0|Spacious refurbished 2 bedroom apt with balcony   |\n",
      "|148.0|Two Bedrooms Garden Maisonette                    |\n",
      "|120.0|One Bedroom Garden Apartment                      |\n",
      "|216.0|Four Bedroom Garden Apartment                     |\n",
      "|238.0|Huge Three Bedroom Flat with parking and terrace  |\n",
      "|62.0 |Central London with Stunning Views!               |\n",
      "|66.0 |Also five minutes to South Bank                   |\n",
      "|73.0 |Patio Apartment in London (Twickenham)            |\n",
      "|NULL |Heathrow BNB - Home Away From Home!               |\n",
      "|NULL |luxury 1bed in Chelsea Bridge Wharf               |\n",
      "|134.0|2 Bed Edwardian Maisonette with Sunny Garden      |\n",
      "|200.0|1 bedroom flat with big balcony!                  |\n",
      "|NULL |Kitchener House!                                  |\n",
      "|155.0|Cool shoreditch courtyard flat                    |\n",
      "|135.0|Lovely 2 bedroom flat near Brixton, zone 2, London|\n",
      "|129.0|Hackney Stylish & light 1 bedroom Victorian flat  |\n",
      "+-----+--------------------------------------------------+\n",
      "only showing top 20 rows\n"
     ]
    }
   ],
   "source": [
    "# Import functions we'll need for string replacement\n",
    "from pyspark.sql.functions import regexp_replace, col\n",
    "\n",
    "\n",
    "# Create a new DataFrame \"df_no_dollar\" by cleaning the \"price\" column\n",
    "df_no_dollar = listing.withColumn(\n",
    "    \"price\",                                   # Column we are updating\n",
    "    regexp_replace(\"price\", \"[$,]\", \"\")        # Remove \"$\" and \",\" characters from the string\n",
    "    .cast('float')                             # Convert the cleaned string into a float type\n",
    "        )\n",
    "\n",
    "df_no_dollar.select('price','name').show(truncate=False)"
   ]
  },
  {
   "cell_type": "code",
   "execution_count": 128,
   "id": "ff46b0e2-194f-4f41-8ad3-0e86b166e465",
   "metadata": {},
   "outputs": [
    {
     "data": {
      "text/plain": [
       "StructField('price', FloatType(), True)"
      ]
     },
     "execution_count": 128,
     "metadata": {},
     "output_type": "execute_result"
    }
   ],
   "source": [
    "df_no_dollar.schema['price']"
   ]
  },
  {
   "cell_type": "code",
   "execution_count": 137,
   "id": "99156866-2739-4921-b4ee-1fe7ff961f99",
   "metadata": {},
   "outputs": [
    {
     "name": "stdout",
     "output_type": "stream",
     "text": [
      "+-----+-------------------------------------------------+--------------------+\n",
      "|price|name                                             |review_scores_rating|\n",
      "+-----+-------------------------------------------------+--------------------+\n",
      "|98.0 |One Bedroom Apartment                            |4.58                |\n",
      "|62.0 |Central London with Stunning Views!              |4.9                 |\n",
      "|66.0 |Also five minutes to South Bank                  |4.63                |\n",
      "|73.0 |Patio Apartment in London (Twickenham)           |4.64                |\n",
      "|70.0 |Boutique Room w/ Private Bath, Balcony           |4.98                |\n",
      "|72.0 |Holiday London DB Room Let-on going              |4.85                |\n",
      "|74.0 |You are GUARANTEED to love this                  |4.87                |\n",
      "|51.0 |Bright Double + workspace in spacious Garden Flat|4.75                |\n",
      "|52.0 |SPACIOUS ROOM IN CONTEMPORARY STYLE FLAT         |4.97                |\n",
      "|75.0 |Room with a view, shared flat,  central  Bankside|4.69                |\n",
      "|55.0 |You Will Save Money Here                         |4.89                |\n",
      "|94.0 |Spacious luxury 2 bedroom apartment              |4.6                 |\n",
      "|48.0 |A people person awaits you here!                 |4.9                 |\n",
      "|47.0 |Quiet Comfortable Room in Fulham                 |4.73                |\n",
      "|55.0 |Sunny double room/balcony/shower/wc              |4.96                |\n",
      "|80.0 |London, Ealing, W13 Artists Home                 |4.99                |\n",
      "|41.0 |Attic Room in historic Greenwich                 |4.79                |\n",
      "|83.0 |202 double room shower Soho comfy                |4.58                |\n",
      "|60.0 |Dream Apartment in central London                |4.83                |\n",
      "|78.0 |Architect's pub conversion, London               |4.76                |\n",
      "+-----+-------------------------------------------------+--------------------+\n",
      "only showing top 20 rows\n"
     ]
    }
   ],
   "source": [
    "df_no_dollar.filter( (df_no_dollar.price<100) & (df_no_dollar.review_scores_rating>4.5) ) \\\n",
    "    .select('price','name','review_scores_rating')\\\n",
    "    .show(truncate=False)"
   ]
  },
  {
   "cell_type": "code",
   "execution_count": 142,
   "id": "db396993-e99b-42e6-bb53-8370719e947b",
   "metadata": {},
   "outputs": [
    {
     "name": "stdout",
     "output_type": "stream",
     "text": [
      "+-----+-------------------------------------------------+--------------------+\n",
      "|price|name                                             |review_scores_rating|\n",
      "+-----+-------------------------------------------------+--------------------+\n",
      "|98.0 |One Bedroom Apartment                            |4.58                |\n",
      "|62.0 |Central London with Stunning Views!              |4.9                 |\n",
      "|66.0 |Also five minutes to South Bank                  |4.63                |\n",
      "|73.0 |Patio Apartment in London (Twickenham)           |4.64                |\n",
      "|70.0 |Boutique Room w/ Private Bath, Balcony           |4.98                |\n",
      "|72.0 |Holiday London DB Room Let-on going              |4.85                |\n",
      "|74.0 |You are GUARANTEED to love this                  |4.87                |\n",
      "|51.0 |Bright Double + workspace in spacious Garden Flat|4.75                |\n",
      "|52.0 |SPACIOUS ROOM IN CONTEMPORARY STYLE FLAT         |4.97                |\n",
      "|75.0 |Room with a view, shared flat,  central  Bankside|4.69                |\n",
      "|55.0 |You Will Save Money Here                         |4.89                |\n",
      "|94.0 |Spacious luxury 2 bedroom apartment              |4.6                 |\n",
      "|48.0 |A people person awaits you here!                 |4.9                 |\n",
      "|47.0 |Quiet Comfortable Room in Fulham                 |4.73                |\n",
      "|55.0 |Sunny double room/balcony/shower/wc              |4.96                |\n",
      "|80.0 |London, Ealing, W13 Artists Home                 |4.99                |\n",
      "|41.0 |Attic Room in historic Greenwich                 |4.79                |\n",
      "|83.0 |202 double room shower Soho comfy                |4.58                |\n",
      "|60.0 |Dream Apartment in central London                |4.83                |\n",
      "|78.0 |Architect's pub conversion, London               |4.76                |\n",
      "+-----+-------------------------------------------------+--------------------+\n",
      "only showing top 20 rows\n"
     ]
    }
   ],
   "source": [
    "df_no_dollar.filter('price < 100 AND review_scores_rating > 4.5') \\\n",
    "    .select('price','name','review_scores_rating')\\\n",
    "    .show(truncate=False)"
   ]
  },
  {
   "cell_type": "code",
   "execution_count": 151,
   "id": "9df4655c-244a-4d16-934a-75cd7854cc84",
   "metadata": {},
   "outputs": [
    {
     "name": "stderr",
     "output_type": "stream",
     "text": [
      "[Stage 53:>                                                         (0 + 1) / 1]"
     ]
    },
    {
     "name": "stdout",
     "output_type": "stream",
     "text": [
      "+----------------------------------+\n",
      "|property_type                     |\n",
      "+----------------------------------+\n",
      "|Private room in lighthouse        |\n",
      "|Private room in loft              |\n",
      "|Private room in earthen home      |\n",
      "|Entire chalet                     |\n",
      "|Earthen home                      |\n",
      "|Farm stay                         |\n",
      "|Entire rental unit                |\n",
      "|Shared room in hostel             |\n",
      "|Shared room                       |\n",
      "|Private room in condo             |\n",
      "|Room in boutique hotel            |\n",
      "|Private room in religious building|\n",
      "|Room in bed and breakfast         |\n",
      "|Private room in casa particular   |\n",
      "|Private room in bungalow          |\n",
      "|Entire cabin                      |\n",
      "|Entire guesthouse                 |\n",
      "|Hut                               |\n",
      "|Private room in nature lodge      |\n",
      "|Entire guest suite                |\n",
      "|Private room in home              |\n",
      "|Entire place                      |\n",
      "|Floor                             |\n",
      "|Camper/RV                         |\n",
      "|Shared room in bungalow           |\n",
      "|Castle                            |\n",
      "|Private room in boat              |\n",
      "|Tiny home                         |\n",
      "|Entire vacation home              |\n",
      "|Private room in hostel            |\n",
      "|Private room in chalet            |\n",
      "|Private room in island            |\n",
      "|Lighthouse                        |\n",
      "|Private room in treehouse         |\n",
      "|Cave                              |\n",
      "|Riad                              |\n",
      "|Room in aparthotel                |\n",
      "|Private room in cottage           |\n",
      "|Campsite                          |\n",
      "|Private room in guest suite       |\n",
      "|Room in hostel                    |\n",
      "|Entire townhouse                  |\n",
      "|Room in hotel                     |\n",
      "|Entire villa                      |\n",
      "|Entire home/apt                   |\n",
      "|Private room in rental unit       |\n",
      "|Private room in bed and breakfast |\n",
      "|Entire serviced apartment         |\n",
      "|Private room in cabin             |\n",
      "|Private room in serviced apartment|\n",
      "+----------------------------------+\n",
      "only showing top 50 rows\n"
     ]
    },
    {
     "name": "stderr",
     "output_type": "stream",
     "text": [
      "                                                                                "
     ]
    }
   ],
   "source": [
    "listing.select(listing.property_type).distinct().show(50,truncate=False)\n"
   ]
  },
  {
   "cell_type": "code",
   "execution_count": 153,
   "id": "651a3b74-0bfd-4bf4-a500-506215ac1e44",
   "metadata": {},
   "outputs": [
    {
     "name": "stderr",
     "output_type": "stream",
     "text": [
      "[Stage 59:>                                                         (0 + 1) / 1]"
     ]
    },
    {
     "name": "stdout",
     "output_type": "stream",
     "text": [
      "+----------------------------------+---------------+\n",
      "|property_type                     |room_type      |\n",
      "+----------------------------------+---------------+\n",
      "|Room in hostel                    |Hotel room     |\n",
      "|Private room in casa particular   |Private room   |\n",
      "|Dome                              |Entire home/apt|\n",
      "|Entire serviced apartment         |Entire home/apt|\n",
      "|Private room in loft              |Private room   |\n",
      "|Shipping container                |Entire home/apt|\n",
      "|Private room in villa             |Private room   |\n",
      "|Farm stay                         |Entire home/apt|\n",
      "|Room in hotel                     |Hotel room     |\n",
      "|Shared room in rental unit        |Shared room    |\n",
      "|Private room in guest suite       |Private room   |\n",
      "|Room in rental unit               |Hotel room     |\n",
      "|Room in serviced apartment        |Hotel room     |\n",
      "|Private room in serviced apartment|Private room   |\n",
      "|Private room in hostel            |Private room   |\n",
      "|Shared room                       |Shared room    |\n",
      "|Private room in yurt              |Private room   |\n",
      "|Room in boutique hotel            |Private room   |\n",
      "|Private room in shepherd's hut    |Private room   |\n",
      "|Entire rental unit                |Entire home/apt|\n",
      "|Camper/RV                         |Entire home/apt|\n",
      "|Private room in home              |Private room   |\n",
      "|Room in hotel                     |Entire home/apt|\n",
      "|Room in aparthotel                |Private room   |\n",
      "|Floor                             |Entire home/apt|\n",
      "|Hut                               |Entire home/apt|\n",
      "|Private room in shipping container|Private room   |\n",
      "|Shared room in loft               |Shared room    |\n",
      "|Private room in houseboat         |Private room   |\n",
      "|Private room in religious building|Private room   |\n",
      "|Entire loft                       |Entire home/apt|\n",
      "|Private room in bed and breakfast |Private room   |\n",
      "|Room in aparthotel                |Entire home/apt|\n",
      "|Entire home                       |Entire home/apt|\n",
      "|Shared room in bungalow           |Shared room    |\n",
      "|Private room in resort            |Private room   |\n",
      "|Room in boutique hotel            |Hotel room     |\n",
      "|Private room in treehouse         |Private room   |\n",
      "|Entire condo                      |Entire home/apt|\n",
      "|Entire guesthouse                 |Entire home/apt|\n",
      "|Private room in chalet            |Private room   |\n",
      "|Castle                            |Entire home/apt|\n",
      "|Entire place                      |Entire home/apt|\n",
      "|Shepherd’s hut                    |Entire home/apt|\n",
      "|Shared room in condo              |Shared room    |\n",
      "|Entire cottage                    |Entire home/apt|\n",
      "|Casa particular                   |Entire home/apt|\n",
      "|Shared room in hotel              |Shared room    |\n",
      "|Entire chalet                     |Entire home/apt|\n",
      "|Entire villa                      |Entire home/apt|\n",
      "+----------------------------------+---------------+\n",
      "only showing top 50 rows\n"
     ]
    },
    {
     "name": "stderr",
     "output_type": "stream",
     "text": [
      "                                                                                "
     ]
    }
   ],
   "source": [
    "listing.select(listing.property_type, listing.room_type).distinct().show(50,truncate=False)\n"
   ]
  },
  {
   "cell_type": "code",
   "execution_count": 157,
   "id": "797b4cca-5ab2-4b76-a46b-5ec264806fa0",
   "metadata": {},
   "outputs": [
    {
     "name": "stderr",
     "output_type": "stream",
     "text": [
      "                                                                                "
     ]
    }
   ],
   "source": [
    "listing.select(listing.property_type).distinct().write.csv('Data/property_type/test.csv')"
   ]
  },
  {
   "cell_type": "code",
   "execution_count": null,
   "id": "2bae5b64-e64b-46b7-a2e3-257373c3aafa",
   "metadata": {},
   "outputs": [],
   "source": []
  }
 ],
 "metadata": {
  "kernelspec": {
   "display_name": "Python 3 (ipykernel)",
   "language": "python",
   "name": "python3"
  },
  "language_info": {
   "codemirror_mode": {
    "name": "ipython",
    "version": 3
   },
   "file_extension": ".py",
   "mimetype": "text/x-python",
   "name": "python",
   "nbconvert_exporter": "python",
   "pygments_lexer": "ipython3",
   "version": "3.12.3"
  }
 },
 "nbformat": 4,
 "nbformat_minor": 5
}
